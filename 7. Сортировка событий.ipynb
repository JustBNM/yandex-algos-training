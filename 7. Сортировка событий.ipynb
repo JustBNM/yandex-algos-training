{
 "cells": [
  {
   "cell_type": "markdown",
   "metadata": {},
   "source": [
    "# [Контест](https://contest.yandex.ru/contest/29396/enter/)    \n",
    "# Домашнее задание #7 \"Сортировка событий\""
   ]
  },
  {
   "cell_type": "markdown",
   "metadata": {},
   "source": [
    "# A. Закраска прямой"
   ]
  },
  {
   "cell_type": "markdown",
   "metadata": {},
   "source": [
    "На числовой прямой окрасили N отрезков. Известны координаты левого и правого концов каждого отрезка ($L_i$ и $R_i$). Найти длину окрашенной части числовой прямой."
   ]
  },
  {
   "cell_type": "code",
   "execution_count": 4,
   "metadata": {},
   "outputs": [
    {
     "name": "stdout",
     "output_type": "stream",
     "text": [
      "2\n",
      "10 20\n",
      "20 40\n",
      "30\n"
     ]
    }
   ],
   "source": [
    "N = int(input())\n",
    "events = []\n",
    "\n",
    "for _ in range(N):\n",
    "    start, end = map(int, input().split())\n",
    "    events.append((start, -1))\n",
    "    events.append((end, 1))\n",
    "events.sort()\n",
    "\n",
    "counter = 0\n",
    "lenght = 0\n",
    "for i in range(len(events)):\n",
    "    if counter > 0:\n",
    "        lenght += events[i][0] - events[i-1][0]\n",
    "    if events[i][1] == -1:\n",
    "        counter += 1\n",
    "    elif events[i][1] == 1:\n",
    "        counter -= 1\n",
    "print(lenght)"
   ]
  },
  {
   "cell_type": "markdown",
   "metadata": {},
   "source": [
    "# B. Таможня"
   ]
  },
  {
   "cell_type": "markdown",
   "metadata": {},
   "source": [
    "Идёт 2163 год. Мишу, который работает в отделении таможни при космодроме города Нью-Питер, вызвал в кабинет шеф.\n",
    "\n",
    "Как оказалось, недавно Министерство Налогов и Сборов выделило отделению определённую сумму денег на установку новых аппаратов для автоматического досмотра грузов. Естественно, средства были выделены с таким расчётом, чтобы грузы теперь находились на таможне ровно столько времени, сколько требуется непосредственно на их досмотр.\n",
    "\n",
    "В руках шефа каким-то образом оказались сведения о надвигающейся ревизии – список из N грузов, которые будут контролироваться Министерством. Для каждого груза известны время его прибытия, отсчитываемое с некоторого момента, хранимого в большом секрете, и время, требуемое аппарату для обработки этого груза. Шеф дал Мише задание по этим данным определить, какое минимальное количество аппаратов необходимо заказать на заводе, чтобы все грузы Министерства начинали досматриваться сразу после прибытия. Необходимо учесть, что конструкция тех аппаратов, которые было решено установить, не позволяет обрабатывать два груза одновременно на одном аппарате. Напишите программу, которая поможет Мише справиться с его задачей."
   ]
  },
  {
   "cell_type": "code",
   "execution_count": 6,
   "metadata": {},
   "outputs": [
    {
     "name": "stdout",
     "output_type": "stream",
     "text": [
      "5\n",
      "13 4\n",
      "15 1\n",
      "11 5\n",
      "12 3\n",
      "10 3\n",
      "3\n"
     ]
    }
   ],
   "source": [
    "# По факту вопрос задачи о том, какое максимальное количество \n",
    "# груза одновременно находится на таможне\n",
    "# В cargo добавляем время прибытия и время отправления (время прибытия + время обработки)\n",
    "N = int(input())\n",
    "cargo = []\n",
    "for _ in range(N):\n",
    "    arrive, time_stay = map(int, input().split())\n",
    "    departure = arrive + time_stay\n",
    "    cargo.append((arrive, 1))\n",
    "    cargo.append((departure, -1))\n",
    "cargo.sort()\n",
    "\n",
    "count = 0\n",
    "max_count = 0\n",
    "for i in range(len(cargo)):\n",
    "    if cargo[i][1] == 1:\n",
    "        count+=1\n",
    "        max_count = max(count, max_count)\n",
    "    if cargo[i][1] == -1:\n",
    "        count-=1\n",
    "print(max_count)    "
   ]
  },
  {
   "cell_type": "markdown",
   "metadata": {},
   "source": [
    "# C. Минимальное покрытие"
   ]
  },
  {
   "cell_type": "markdown",
   "metadata": {},
   "source": [
    "На прямой задано некоторое множество отрезков с целочисленными координатами концов [$L_i$, $R_i$]. Выберите среди данного множества подмножество отрезков, целиком покрывающее отрезок [0, M], (M — натуральное число), содержащее наименьшее число отрезков."
   ]
  },
  {
   "cell_type": "code",
   "execution_count": 81,
   "metadata": {},
   "outputs": [
    {
     "name": "stdout",
     "output_type": "stream",
     "text": [
      "1\n",
      "-1 0\n",
      "0 1\n",
      "0 0\n",
      "1\n",
      "0 1\n"
     ]
    }
   ],
   "source": [
    "M = int(input())\n",
    "events = []\n",
    "\n",
    "# Записываем только отрезки, которые могут нам подойти\n",
    "# (которые какой-то ненулевой частью попадают на заданный отрезок [0,M])\n",
    "\n",
    "start, end = map(int, input().split())\n",
    "while start != 0 or end != 0:\n",
    "    if start < M and end > 0:\n",
    "        events.append((start, end))\n",
    "    start, end = map(int, input().split())\n",
    "\n",
    "events.sort()\n",
    "# На первый шаг надо выбрать отрезок, содержащий 0 и уходящий\n",
    "# как можно дальше в положительную ось 0Х.\n",
    "# В процессе движения по этому отрезку(включая его конец)\n",
    "# искать такой отрезок, начинающийся на нём, который уйдёт\n",
    "# тоже как можно дальше.\n",
    "\n",
    "answer = []\n",
    "\n",
    "current_interval = 0,0\n",
    "next_interval = 0,0\n",
    "for i in range(len(events)):\n",
    "    if events[i][0] > current_interval[1]: # Выходим за границу текущего отрезка\n",
    "        current_interval = next_interval\n",
    "        answer.append(current_interval)\n",
    "    if events[i][0] <= current_interval[1] and (events[i][1] > next_interval[1]): # Находим более длинный вариант\n",
    "        next_interval = events[i]\n",
    "\n",
    "# Если нужный элемент был последним\n",
    "if len(answer)==0 or answer[-1][1] < M:\n",
    "    answer.append(next_interval)\n",
    "\n",
    "if  next_interval[1] < M:\n",
    "    print('No solution')\n",
    "else:\n",
    "    print(len(answer))\n",
    "    for val in answer:\n",
    "        print(*val)"
   ]
  },
  {
   "cell_type": "markdown",
   "metadata": {},
   "source": [
    "# D. Наполненность котятами"
   ]
  },
  {
   "cell_type": "markdown",
   "metadata": {},
   "source": [
    "На прямой в точках \n",
    "$a_1$, $a_2$, …, $a_n$\n",
    " (возможно, совпадающих) сидят \n",
    "n\n",
    " котят. На той же прямой лежат \n",
    "m\n",
    " отрезков [$l_1$, $r_1$],[$l_2,r_2$],…,[$l_m,r_m$]. Нужно для каждого отрезка узнать его наполненность котятами — сколько котят сидит на отрезке."
   ]
  },
  {
   "cell_type": "code",
   "execution_count": 34,
   "metadata": {},
   "outputs": [
    {
     "name": "stdout",
     "output_type": "stream",
     "text": [
      "2 2\n",
      "1 3 \n",
      "0 2\n",
      "1 4\n",
      "1\n",
      "2\n"
     ]
    }
   ],
   "source": [
    "n, m = map(int, input().split()) # n - общее число котят, m - количество отрезков\n",
    "cats = list(map(int, input().split()))\n",
    "intervals = []\n",
    "\n",
    "for i in range(m):\n",
    "    interval_start, interval_end = map(int, input().split())\n",
    "    intervals.append((interval_start, -1, i)) # первый индекс - координата начала/конца интервала\n",
    "    intervals.append((interval_end, 1, i)) # второй индекс - тип интервала, третий индекс - номер интервала\n",
    "    \n",
    "for cat in cats:\n",
    "    intervals.append((cat, 0))\n",
    "intervals.sort()\n",
    "\n",
    "# Идея: при проходе по циклу каждый раз при встрече котенка увеличивать cat_counter. \n",
    "# При встрече начала отрезка устанавливать соответсвующий ему элемент в ответе в значение cat_counter.\n",
    "# При встрече конца отрезка меняеть элемент на cat_counter - \"предыдущее значение элемента\"\n",
    "# По итогу туда будет записана разница количества котят на отрезках [0, stop] - [0, start] = [start, stop]\n",
    "# которая является числом котят на этом отрезке\n",
    "answer = [0 for _ in range(m)]\n",
    "cat_counter = 0\n",
    "\n",
    "for event in intervals:\n",
    "    if event[1] == -1:\n",
    "        answer[event[2]] = cat_counter\n",
    "    elif event[1] == 1:\n",
    "        answer[event[2]] = cat_counter - answer[event[2]]\n",
    "    elif event[1] == 0:\n",
    "        cat_counter+=1\n",
    "for answer_i in answer:\n",
    "    print(answer_i)"
   ]
  },
  {
   "cell_type": "markdown",
   "metadata": {},
   "source": [
    "# E. Полярные прямоугольники"
   ]
  },
  {
   "attachments": {
    "image.png": {
     "image/png": "[encoded data removed]"
    }
   },
   "cell_type": "markdown",
   "metadata": {},
   "source": [
    "Вася недавно изучил полярную систему координат. А именно, он изучил понятие полярного прямоугольника. Пусть задана стандартная декартова плоскость. Если на ней нарисовать две окружности с центром в начале координат, то область, находящаяся между ними, называется кольцом (на рисунке обозначена синим). Если на ней нарисовать два луча, то область, заметаемая первым лучом при движении ко второму, называется углом (т.е. область между этими двумя лучами, на рисунке обозначена зеленым). Полярным прямоугольником называется пересечение некоторого угла с некоторым кольцом (на рисунке обозначено красным).\n",
    "![image.png](attachment:image.png)\n",
    "Задано несколько полярных прямоугольников. Найдите площадь их пересечения. Помните, что пересечение полярных прямоугольников может состоять из нескольких частей!"
   ]
  },
  {
   "cell_type": "code",
   "execution_count": 58,
   "metadata": {},
   "outputs": [
    {
     "name": "stdout",
     "output_type": "stream",
     "text": [
      "2\n",
      "84.68891 87.08898 0.76315 0.42392\n",
      "40.00562 88.88346 2.39411 0.42392\n",
      "241.47233340653503\n"
     ]
    }
   ],
   "source": [
    "# Сортировка событий на кольце\n",
    "events = []\n",
    "N = int(input())\n",
    "for i in range(N):\n",
    "    r_1, r_2, fi_1, fi_2 = map(float, input().split())\n",
    "    events.append((fi_1, 1, i, r_1, r_2))\n",
    "    events.append((fi_2, -1, i, r_1, r_2))\n",
    "events.sort()\n",
    "\n",
    "# Можно сразу рассчитать высоту пересечения прямоугольников:\n",
    "difference_of_squeres = min([row[4] for row in events])**2 - max([row[3] for row in events])**2\n",
    "# Делаем за 2 прохода: на 1 выясняем количество открытых прямоугольников в угле=0\n",
    "# на втором считаем площадь пересечения\n",
    "\n",
    "open_close = [0]*N\n",
    "# Первый проход\n",
    "for event in events:\n",
    "    if event[1] == 1:\n",
    "        open_close[event[2]] = 1\n",
    "    if event[1] == -1:\n",
    "        open_close[event[2]] = 0\n",
    "open_at_start = sum(open_close)\n",
    "\n",
    "# Второй проход\n",
    "counter = open_at_start\n",
    "area = 0\n",
    "pi = 3.14159265\n",
    "for i in range(len(events)):\n",
    "    if counter == N:\n",
    "        if i == 0:\n",
    "            area += (2*pi - events[i-1][0] + events[i][0]) * difference_of_squeres/2\n",
    "        else:\n",
    "            area += (abs(events[i][0] - events[i-1][0])) * difference_of_squeres/2\n",
    "            # Площадь сектора кольца: S = delta_fi * (r_2**2 - r_1**2)/2\n",
    "    if events[i][1] == 1:\n",
    "        counter+=1\n",
    "    if events[i][1] == -1:\n",
    "        counter-=1\n",
    "print(max(0, area))"
   ]
  }
 ],
 "metadata": {
  "kernelspec": {
   "display_name": "Python 3",
   "language": "python",
   "name": "python3"
  },
  "language_info": {
   "codemirror_mode": {
    "name": "ipython",
    "version": 3
   },
   "file_extension": ".py",
   "mimetype": "text/x-python",
   "name": "python",
   "nbconvert_exporter": "python",
   "pygments_lexer": "ipython3",
   "version": "3.7.3"
  }
 },
 "nbformat": 4,
 "nbformat_minor": 2
}
