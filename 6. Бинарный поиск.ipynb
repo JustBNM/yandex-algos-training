{
 "cells": [
  {
   "cell_type": "markdown",
   "metadata": {},
   "source": [
    "# [Контест](https://contest.yandex.ru/contest/29188/enter/)    \n",
    "# Домашнее задание #6 \"Бинарный поиск\""
   ]
  },
  {
   "cell_type": "markdown",
   "metadata": {},
   "source": [
    "# A. Быстрый поиск в массиве"
   ]
  },
  {
   "cell_type": "markdown",
   "metadata": {},
   "source": [
    "Дан массив из \n",
    "N\n",
    " целых чисел. Все числа от \n",
    "$−10^9$ до $10^9$.\n",
    "Нужно уметь отвечать на запросы вида “Cколько чисел имеют значения от\n",
    "L\n",
    " до\n",
    "R\n",
    "?”."
   ]
  },
  {
   "cell_type": "code",
   "execution_count": 31,
   "metadata": {},
   "outputs": [],
   "source": [
    "# Можно сделать или за два левых бинарных поиска (один ищёт >=L, другой ищёт >R)\n",
    "# Или за левый бинарный поиск L + правый бинарный поиск R\n",
    "# Проверка на if в конце нужна, тк я работаю с отрезком,а не полуинтервалом"
   ]
  },
  {
   "cell_type": "code",
   "execution_count": 30,
   "metadata": {},
   "outputs": [
    {
     "name": "stdout",
     "output_type": "stream",
     "text": [
      "5\n",
      "10 1 10 3 4\n",
      "4\n",
      "1 10\n",
      "2 9\n",
      "3 4\n",
      "2 2\n",
      "5 2 2 0\n"
     ]
    }
   ],
   "source": [
    "def binary_search(check, seq, ans, params): #params = (L,R)\n",
    "    l, r = params\n",
    "    while l != r:\n",
    "        m = (l+r)//2\n",
    "        if check(seq, m, ans):\n",
    "            r = m\n",
    "        else:\n",
    "            l = m + 1\n",
    "    return l\n",
    "\n",
    "def check_l_eq(seq, m, ans):\n",
    "    return seq[m] >= ans #True/False\n",
    "def check_s_eq(seq, m, ans):\n",
    "    return seq[m] > ans #True/False\n",
    "\n",
    "\n",
    "N = int(input())\n",
    "input_list = list(map(int, input().split()))\n",
    "input_list.sort()\n",
    "K = int(input()) # Число запросов\n",
    "\n",
    "answer = []\n",
    "for _ in range(K):\n",
    "    L, R = map(int, input().split())\n",
    "    left_value = binary_search(check_l_eq, input_list, L, (0, len(input_list)-1))\n",
    "    right_value = binary_search(check_s_eq, input_list, R, (0, len(input_list)-1))\n",
    "    if input_list[left_value] < L:\n",
    "        left_value = len(input_list)\n",
    "    if input_list[right_value] <= R:\n",
    "        right_value = len(input_list)\n",
    "    answer.append(right_value - left_value)\n",
    "print(' '.join(map(str, answer)))"
   ]
  },
  {
   "cell_type": "markdown",
   "metadata": {},
   "source": [
    "# B. Номер левого и правого вхождения"
   ]
  },
  {
   "cell_type": "markdown",
   "metadata": {},
   "source": [
    "Требуется определить в заданном массиве номер самого левого и самого правого элемента, равного искомому числу."
   ]
  },
  {
   "cell_type": "code",
   "execution_count": 40,
   "metadata": {},
   "outputs": [
    {
     "name": "stdout",
     "output_type": "stream",
     "text": [
      "10\n",
      "1 3 3 3 3 6 8 8 9 10\n",
      "10\n",
      "2 9 6 4 2 9 3 7 9 7\n",
      "0 0\n",
      "9 9\n",
      "6 6\n",
      "0 0\n",
      "0 0\n",
      "9 9\n",
      "2 5\n",
      "0 0\n",
      "9 9\n",
      "0 0\n"
     ]
    }
   ],
   "source": [
    "N = int(input()) # Длина input_list\n",
    "input_list = list(map(int, input().split()))\n",
    "M = int(input()) # Длина query (количество запросов)\n",
    "query = list(map(int, input().split()))\n",
    "\n",
    "def l_bin_search(l, r, check, check_params):\n",
    "    while l != r:\n",
    "        m = (l+r)//2\n",
    "        if check(m, check_params):\n",
    "            r = m\n",
    "        else:\n",
    "            l = m + 1\n",
    "    return l\n",
    "\n",
    "def r_bin_search(l,r, check, check_params):\n",
    "    while r != l:\n",
    "        m = (l+r+1)//2\n",
    "        if check(m, check_params):\n",
    "            l = m\n",
    "        else:\n",
    "            r = m - 1 \n",
    "    return r\n",
    "\n",
    "def l_check(index, params):\n",
    "    M_i, input_list = params\n",
    "    return input_list[index] >= M_i\n",
    "def r_check(index, params):\n",
    "    M_i, input_list = params\n",
    "    return input_list[index] <= M_i\n",
    "\n",
    "for M_i in query:\n",
    "    check_params = (M_i, input_list)\n",
    "    left_ind = l_bin_search(0, N-1, l_check, check_params)\n",
    "\n",
    "    right_ind = r_bin_search(0, N-1, r_check, check_params)\n",
    "    if input_list[right_ind] != M_i:\n",
    "        print(0,0)\n",
    "    else: \n",
    "        print(left_ind+1, right_ind+1)"
   ]
  },
  {
   "cell_type": "markdown",
   "metadata": {},
   "source": [
    "# C. Корень кубического уравнения"
   ]
  },
  {
   "cell_type": "markdown",
   "metadata": {},
   "source": [
    "Дано кубическое уравнение $ax^3+bx^2+cx+d=0$ $(a≠0)$. Известно, что у этого уравнения есть ровно один корень. Требуется его найти."
   ]
  },
  {
   "cell_type": "code",
   "execution_count": 59,
   "metadata": {},
   "outputs": [
    {
     "name": "stdout",
     "output_type": "stream",
     "text": [
      "1 -1000 -1000 -1000\n",
      "1000.9999990030138\n"
     ]
    }
   ],
   "source": [
    "a, b, c, d = map(int, input().split())\n",
    "def polinom(x):\n",
    "    return a*x**3 + b*x**2 + c*x + d\n",
    "\n",
    "def l_bin_search(l,r, eps, check):\n",
    "    m = (l+r)/2\n",
    "    while abs(l - r) > eps:\n",
    "        m = (l+r)/2\n",
    "        if check(m,r):\n",
    "            r = m\n",
    "        else:\n",
    "            l = m\n",
    "    return m\n",
    "\n",
    "def check(m, r):\n",
    "    return polinom(m)*polinom(r) > 0\n",
    "\n",
    "eps = 1e-10\n",
    "ans = l_bin_search(-10000, 10000, eps, check)\n",
    "print(ans)\n",
    "        "
   ]
  },
  {
   "cell_type": "markdown",
   "metadata": {},
   "source": [
    "# D. Вырубка леса"
   ]
  },
  {
   "cell_type": "markdown",
   "metadata": {},
   "source": [
    "Фермер Николай нанял двух лесорубов: Дмитрия и Федора, чтобы вырубить лес, на месте которого должно быть кукурузное поле. В лесу растут X деревьев.\n",
    "\n",
    "Дмитрий срубает по A деревьев в день, но каждый K-й день он отдыхает и не срубает ни одного дерева. Таким образом, Дмитрий отдыхает в K-й, 2K-й, 3K-й день, и т.д.\n",
    "\n",
    "Федор срубает по B деревьев в день, но каждый M-й день он отдыхает и не срубает ни одного дерева. Таким образом, Федор отдыхает в M-й, 2M-й, 3M-й день, и т.д.\n",
    "\n",
    "Лесорубы работают параллельно и, таким образом, в дни, когда никто из них не отдыхает, они срубают A + B деревьев, в дни, когда отдыхает только Федор — A деревьев, а в дни, когда отдыхает только Дмитрий — B деревьев. В дни, когда оба лесоруба отдыхают, ни одно дерево не срубается.\n",
    "\n",
    "Фермер Николай хочет понять, за сколько дней лесорубы срубят все деревья, и он сможет засеять кукурузное поле.\n",
    "\n",
    "Требуется написать программу, которая по заданным целым числам A, K, B, M и X определяет, за сколько дней все деревья в лесу будут вырублены.\n",
    "\n"
   ]
  },
  {
   "cell_type": "code",
   "execution_count": 2,
   "metadata": {},
   "outputs": [
    {
     "name": "stdout",
     "output_type": "stream",
     "text": [
      "2 4 3 3 25\n",
      "7\n"
     ]
    }
   ],
   "source": [
    "A, K, B, M, X = map(int, input().split())\n",
    "# A, B - количиество деревьев, которые срубают в день Фёдор и Дмитрий\n",
    "# K, M - частота их отдыха (номер дня: K, 2K, ..)\n",
    "# X - количество деревьев которое надо срубить\n",
    "\n",
    "def number_of_trees_cut(m, check_param):\n",
    "    A, K, B, M = check_param\n",
    "    return A * (m - m//K) + B * (m - m//M) \n",
    "\n",
    "def l_bin_search(l, r, check, check_param):\n",
    "    while l != r:\n",
    "        m = (l+r)//2\n",
    "        if check(m, check_param):\n",
    "            r = m\n",
    "        else:\n",
    "            l = m+1\n",
    "    return l\n",
    "def l_check(m, check_param): # сколько срубили к дню m, check_param - количество деревьев\n",
    "    A, K, B, M, X = check_param\n",
    "    return number_of_trees_cut(m, (A, K, B, M)) >= X\n",
    "\n",
    "ans = l_bin_search(0, X, l_check, \n",
    "                   (A, K, B, M, X))  # максимальное количество дней (r) = количеству деревьев\n",
    "print(ans)"
   ]
  },
  {
   "cell_type": "markdown",
   "metadata": {},
   "source": [
    "# E. Покрытие K отрезками"
   ]
  },
  {
   "cell_type": "markdown",
   "metadata": {},
   "source": [
    "Даны \n",
    "n\n",
    " точек на прямой, нужно покрыть их \n",
    "k\n",
    " отрезками одинаковой длины \n",
    "m\n",
    ".\n",
    "Найдите минимальное \n",
    "m\n",
    "."
   ]
  },
  {
   "cell_type": "code",
   "execution_count": 3,
   "metadata": {},
   "outputs": [
    {
     "name": "stdout",
     "output_type": "stream",
     "text": [
      "6 2\n",
      "1 2 3 9 8 7\n",
      "2\n"
     ]
    }
   ],
   "source": [
    "n, k = map(int, input().split())\n",
    "dots = list(map(int, input().split()))\n",
    "dots.sort()\n",
    "\n",
    "left=0\n",
    "right = max(dots) - min(dots)\n",
    "\n",
    "def l_bin_search(l, r, check, check_param): # Ищем длину отрезка\n",
    "    while l != r:\n",
    "        m = (l+r)//2\n",
    "        if check(m, check_param):\n",
    "            r = m\n",
    "        else:\n",
    "            l = m + 1\n",
    "    return l\n",
    "def l_check(m, check_param):\n",
    "    k, dots = check_param\n",
    "    # Проверка на покрытие\n",
    "    counter = 1\n",
    "    segment_start = dots[0]\n",
    "    for value in dots:\n",
    "        if value - segment_start > m:\n",
    "            counter += 1\n",
    "            segment_start = value\n",
    "    return k >= counter\n",
    "\n",
    "ans = l_bin_search(left, right, l_check, (k, dots))\n",
    "print(ans)"
   ]
  }
 ],
 "metadata": {
  "kernelspec": {
   "display_name": "Python 3",
   "language": "python",
   "name": "python3"
  },
  "language_info": {
   "codemirror_mode": {
    "name": "ipython",
    "version": 3
   },
   "file_extension": ".py",
   "mimetype": "text/x-python",
   "name": "python",
   "nbconvert_exporter": "python",
   "pygments_lexer": "ipython3",
   "version": "3.7.3"
  }
 },
 "nbformat": 4,
 "nbformat_minor": 2
}
