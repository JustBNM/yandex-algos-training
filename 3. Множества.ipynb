{
 "cells": [
  {
   "cell_type": "markdown",
   "metadata": {},
   "source": [
    "# [Контест](https://contest.yandex.ru/contest/28964/enter/)    \n",
    "# Домашнее задание #3 \"Множества\""
   ]
  },
  {
   "cell_type": "markdown",
   "metadata": {},
   "source": [
    "# A. Количество совпадающих"
   ]
  },
  {
   "cell_type": "markdown",
   "metadata": {},
   "source": [
    "Даны два списка чисел, которые могут содержать до 100000 чисел каждый. Посчитайте, сколько чисел содержится одновременно как в первом списке, так и во втором. Примечание. Эту задачу на Питоне можно решить в одну строчку."
   ]
  },
  {
   "cell_type": "code",
   "execution_count": 3,
   "metadata": {},
   "outputs": [
    {
     "name": "stdout",
     "output_type": "stream",
     "text": [
      "1 7 3 8 10 2 5\n",
      "6 5 2 8 4 3 7\n",
      "5\n"
     ]
    }
   ],
   "source": [
    "list_1 = list(map(int, input().split()))\n",
    "list_2 = list(map(int, input().split()))\n",
    "\n",
    "answer = len(set(list_1) & set(list_2))\n",
    "\n",
    "print(answer)"
   ]
  },
  {
   "cell_type": "markdown",
   "metadata": {},
   "source": [
    "# B. Встречалось ли число раньше"
   ]
  },
  {
   "cell_type": "markdown",
   "metadata": {},
   "source": [
    "Во входной строке записана последовательность чисел через пробел. Для каждого числа выведите слово YES (в отдельной строке), если это число ранее встречалось в последовательности или NO, если не встречалось."
   ]
  },
  {
   "cell_type": "code",
   "execution_count": 5,
   "metadata": {},
   "outputs": [
    {
     "name": "stdout",
     "output_type": "stream",
     "text": [
      "1 2 3 2 3 4\n",
      "NO\n",
      "NO\n",
      "NO\n",
      "YES\n",
      "YES\n",
      "NO\n"
     ]
    }
   ],
   "source": [
    "input_list = list(map(int, input().split()))\n",
    "\n",
    "my_set = set()\n",
    "for value in input_list:\n",
    "    if value in my_set:\n",
    "        print('YES')\n",
    "    else:\n",
    "        my_set.add(value)\n",
    "        print('NO')"
   ]
  },
  {
   "cell_type": "markdown",
   "metadata": {},
   "source": [
    "# C. Уникальные элементы"
   ]
  },
  {
   "cell_type": "markdown",
   "metadata": {},
   "source": [
    "Дан список. Выведите те его элементы, которые встречаются в списке только один раз. Элементы нужно выводить в том порядке, в котором они встречаются в списке."
   ]
  },
  {
   "cell_type": "code",
   "execution_count": 8,
   "metadata": {},
   "outputs": [
    {
     "name": "stdout",
     "output_type": "stream",
     "text": [
      "4 3 5 2 5 1 3 5\n",
      "4 2 1\n"
     ]
    }
   ],
   "source": [
    "input_list = list(map(int, input().split()))\n",
    "\n",
    "already_seen = set()\n",
    "answer = []\n",
    "\n",
    "for value in input_list:\n",
    "    if value in already_seen:\n",
    "        if value in answer:\n",
    "            answer.remove(value)\n",
    "    else:\n",
    "        answer.append(value)\n",
    "        already_seen.add(value)\n",
    "print(*answer)"
   ]
  },
  {
   "cell_type": "markdown",
   "metadata": {},
   "source": [
    "# D. Угадай число"
   ]
  },
  {
   "cell_type": "markdown",
   "metadata": {},
   "source": [
    "Август и Беатриса играют в игру. Август загадал натуральное число от 1 до n. Беатриса пытается угадать это число, для этого она называет некоторые множества натуральных чисел. Август отвечает Беатрисе YES, если среди названных ей чисел есть задуманное или NO в противном случае. После нескольких заданных вопросов Беатриса запуталась в том, какие вопросы она задавала и какие ответы получила и просит вас помочь ей определить, какие числа мог задумать Август."
   ]
  },
  {
   "cell_type": "code",
   "execution_count": 46,
   "metadata": {},
   "outputs": [
    {
     "name": "stdout",
     "output_type": "stream",
     "text": [
      "10\n",
      "1\n",
      "No\n",
      "2\n",
      "No\n",
      "3\n",
      "NO\n",
      "HELP\n",
      "4 5 6 7 8 9 10\n"
     ]
    }
   ],
   "source": [
    "n = int(input())\n",
    "answer = set(range(1, n+1)) \n",
    "\n",
    "negative_answers = []\n",
    "\n",
    "while True: # Можно While Beatris != 'HELP'\n",
    "    Beatris = input()\n",
    "    if Beatris == 'HELP':\n",
    "        answer = answer - set(negative_answers)\n",
    "        print(*sorted(list(answer)))\n",
    "        break\n",
    "    Beatris = set(map(int, Beatris.split())) \n",
    "    August = input()\n",
    "    if August == 'YES':\n",
    "        answer = answer & Beatris\n",
    "    else:\n",
    "        negative_answers.extend([*Beatris])"
   ]
  },
  {
   "cell_type": "markdown",
   "metadata": {},
   "source": [
    "Можно решать через перебор значений внутри множеств и удаления лишних, чтобы не создавать новые объекты.   \n",
    "Т.е. изменять сам объект, а не конструировать новый\n",
    "\n",
    "Операции, непосредственно изменяющие множество:    \n",
    "      \n",
    "set.intersection_update(other, ...); set &= other & ... - пересечение.     \n",
    "set.difference_update(other, ...); set -= other | ... - вычитание.    \n"
   ]
  },
  {
   "cell_type": "code",
   "execution_count": 4,
   "metadata": {},
   "outputs": [
    {
     "name": "stdout",
     "output_type": "stream",
     "text": [
      "4\n",
      "1 2\n",
      "YES\n",
      "2 3\n",
      "NO\n",
      "HELP\n",
      "1\n"
     ]
    }
   ],
   "source": [
    "n = int(input())\n",
    "possible = set(range(1, n+1))\n",
    "s = input().strip()\n",
    "while s != 'HELP':\n",
    "    nums = set(map(int, s.split()))\n",
    "    s = input().strip()\n",
    "    if s == 'YES':\n",
    "        possible.intersection_update(nums)\n",
    "    else:\n",
    "        possible.difference_update(nums)\n",
    "    s = input().strip()\n",
    "print(*sorted(possible))"
   ]
  },
  {
   "cell_type": "markdown",
   "metadata": {},
   "source": [
    "# E. Автомобильные номера"
   ]
  },
  {
   "cell_type": "markdown",
   "metadata": {},
   "source": [
    "Неизвестный водитель совершил ДТП и скрылся с места происшествия. Полиция опрашивает свидетелей. Каждый из них говорит, что запомнил какие-то буквы и цифры номера. Но при этом свидетели не помнят порядок этих цифр и букв. Полиция хочет проверить несколько подозреваемых автомобилей. Будем говорить, что номер согласуется с показанием свидетеля, если все символы, которые назвал свидетель, присутствуют в этом номере (не важно, сколько раз)."
   ]
  },
  {
   "cell_type": "code",
   "execution_count": 28,
   "metadata": {},
   "outputs": [
    {
     "name": "stdout",
     "output_type": "stream",
     "text": [
      "3\n",
      "ABDEX\n",
      "XBACD\n",
      "BAXED\n",
      "2\n",
      "AAA\n",
      "0 0\n",
      "ABCD\n",
      "0 0\n",
      "AAA\n",
      "ABCD\n"
     ]
    }
   ],
   "source": [
    "M = int(input())\n",
    "evidences=[]\n",
    "for _ in range(M):\n",
    "    my_set = set(input())\n",
    "    evidences.append(my_set)\n",
    "N = int(input())\n",
    "\n",
    "answer = []\n",
    "max_counter = 0\n",
    "for _ in range(N):\n",
    "    counter = 0\n",
    "    car_number = input()\n",
    "    for i in range(len(evidences)):\n",
    "        if evidences[i] <= set(car_number):\n",
    "            counter+=1\n",
    "    if counter == max_counter:\n",
    "        answer.append(car_number)\n",
    "    if counter > max_counter:\n",
    "        answer = [car_number]\n",
    "        max_counter = counter\n",
    "print('\\n'.join(answer))"
   ]
  },
  {
   "cell_type": "code",
   "execution_count": null,
   "metadata": {},
   "outputs": [],
   "source": [
    "# Можно сделать через 2-х проходный алгоритм. \n",
    "# Сначала считать количество свидетелей, потом брать максимум\n",
    "# При этом не придется каждый раз обновлять список лучших"
   ]
  }
 ],
 "metadata": {
  "kernelspec": {
   "display_name": "Python 3",
   "language": "python",
   "name": "python3"
  },
  "language_info": {
   "codemirror_mode": {
    "name": "ipython",
    "version": 3
   },
   "file_extension": ".py",
   "mimetype": "text/x-python",
   "name": "python",
   "nbconvert_exporter": "python",
   "pygments_lexer": "ipython3",
   "version": "3.7.3"
  }
 },
 "nbformat": 4,
 "nbformat_minor": 2
}
