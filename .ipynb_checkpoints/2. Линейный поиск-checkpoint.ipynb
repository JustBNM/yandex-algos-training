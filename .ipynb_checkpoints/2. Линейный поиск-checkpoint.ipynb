{
 "cells": [
  {
   "cell_type": "markdown",
   "metadata": {},
   "source": [
    "# [Контест](https://contest.yandex.ru/contest/28738/enter/)    \n",
    "# Домашнее задание #2 \"Линейный поиск\""
   ]
  },
  {
   "cell_type": "markdown",
   "metadata": {},
   "source": [
    "# A. Количество равных максимальному"
   ]
  },
  {
   "cell_type": "markdown",
   "metadata": {},
   "source": [
    "Последовательность состоит из натуральных чисел и завершается числом 0. Всего вводится не более 10000 чисел (не считая завершающего числа 0). Определите, сколько элементов этой последовательности равны ее наибольшему элементу.\n",
    "\n",
    "Числа, следующие за числом 0, считывать не нужно."
   ]
  },
  {
   "cell_type": "code",
   "execution_count": 2,
   "metadata": {},
   "outputs": [
    {
     "name": "stdout",
     "output_type": "stream",
     "text": [
      "1\n",
      "3\n",
      "3\n",
      "1\n",
      "0\n",
      "2\n"
     ]
    }
   ],
   "source": [
    "biggest_value = int(input())\n",
    "sum_highest = 1\n",
    "while True:\n",
    "    value = int(input())\n",
    "    if value == 0:\n",
    "        break\n",
    "    if value > biggest_value:\n",
    "        biggest_value = value\n",
    "        sum_highest = 1\n",
    "    elif value == biggest_value:\n",
    "        sum_highest += 1\n",
    "print(sum_highest)"
   ]
  },
  {
   "cell_type": "markdown",
   "metadata": {},
   "source": [
    "# B. Дома и магазины"
   ]
  },
  {
   "cell_type": "markdown",
   "metadata": {},
   "source": [
    "На Новом проспекте построили подряд 10 зданий. Каждое здание может быть либо жилым домом, либо магазином, либо офисным зданием.\n",
    "\n",
    "Но оказалось, что жителям некоторых домов на Новом проспекте слишком далеко приходится идти до ближайшего магазина. Для разработки плана развития общественного транспорта на Новом проспекте мэр города попросил вас выяснить, какое же наибольшее расстояние приходится преодолевать жителям Нового проспекта, чтобы дойти от своего дома до ближайшего магазина."
   ]
  },
  {
   "cell_type": "code",
   "execution_count": 9,
   "metadata": {},
   "outputs": [
    {
     "name": "stdout",
     "output_type": "stream",
     "text": [
      "1 2 1 2 0 0 1 0 1 0\n",
      "5\n"
     ]
    }
   ],
   "source": [
    "# Просто не хотел ассимптотику O(N^2) и даже O(NlnN), поэтому столько кода для O(N)\n",
    "# 2 - магазин, 1 - жилое здание, 0 - офис\n",
    "city = list(map(int, input().split()))\n",
    "# найдем индексы всех магазинов:\n",
    "shops = []\n",
    "for ind, building in enumerate(city):\n",
    "    if building == 2:\n",
    "        shops.append(ind)\n",
    "# будем идти по списку и для каждого жилого\n",
    "# здания искать ближайший магазин в списке магазинов.\n",
    "longest_way = 0\n",
    "current_way = 0\n",
    "# number_of_shops_enc - количество магазинов, которые мы уже\n",
    "# встретили во время этого прохода по списку.\n",
    "number_of_shops_enc = 0\n",
    "# Ассимптотика O(N), горжусь\n",
    "for ind, building in enumerate(city):\n",
    "    if building == 2:\n",
    "        number_of_shops_enc += 1\n",
    "    if building == 1 and number_of_shops_enc == 0:\n",
    "        current_way = shops[number_of_shops_enc] - ind\n",
    "    elif building == 1 and number_of_shops_enc !=0 and number_of_shops_enc != len(shops):\n",
    "        current_way = min(abs(ind - shops[number_of_shops_enc-1]), \n",
    "                          abs(shops[number_of_shops_enc] - ind))\n",
    "    elif building == 1 and number_of_shops_enc == len(shops):\n",
    "        current_way = abs(shops[number_of_shops_enc-1] - ind)\n",
    "    if current_way > longest_way:\n",
    "        longest_way = current_way\n",
    "print(longest_way)"
   ]
  },
  {
   "cell_type": "code",
   "execution_count": null,
   "metadata": {},
   "outputs": [],
   "source": [
    "# Другое решение: пройти сначала слева направо и \n",
    "# запоминать расстояние до ближайшего левого магазина\n",
    "# Потом пройтись справа налево и запоминать до ближайшего\n",
    "# правого. Потом выбрать минимум для каждого дома.\n",
    "city = list(map(int, input().split()))\n",
    "left = [0] * len(d)\n",
    "shoppos = -20\n",
    "for i in range(len(city)):\n",
    "    if city[i] == 2:\n",
    "        shoppos = i\n",
    "    if shoppos[i] == 1:\n",
    "        left[i] = i - shoppos\n",
    "ans = 0\n",
    "shoppos = 30\n",
    "for i in range(len(d)-1, -1, -1):\n",
    "    if d[i] == 2:\n",
    "        shoppos = i\n",
    "    if d[i] == 1:\n",
    "        mindist = min(shoppos - i, left[i])\n",
    "        ans = max(ans, mindist)\n",
    "print(ans)"
   ]
  },
  {
   "cell_type": "markdown",
   "metadata": {},
   "source": [
    "# C. Изготовление палиндромов"
   ]
  },
  {
   "cell_type": "markdown",
   "metadata": {},
   "source": [
    "В строкоремонтную мастерскую принесли строку, состоящую из строчных латинских букв. Заказчик хочет сделать из неё палиндром. В мастерской могут за 1 байтландский тугрик заменить произвольную букву в строке любой выбранной заказчиком буквой.\n",
    "Какую минимальную сумму придётся заплатить заказчику за ремонт строки?\n",
    "Напомним, что палиндромом называется строка, которая равна самой себе, прочитанной в обратном направлении."
   ]
  },
  {
   "cell_type": "code",
   "execution_count": 9,
   "metadata": {},
   "outputs": [
    {
     "name": "stdout",
     "output_type": "stream",
     "text": [
      "cognitive\n",
      "4\n"
     ]
    }
   ],
   "source": [
    "string = input()\n",
    "counter = 0\n",
    "for i in range(len(string)//2):\n",
    "    if string[i] != list(reversed(string))[i]:\n",
    "        counter += 1\n",
    "print(counter)\n"
   ]
  },
  {
   "cell_type": "markdown",
   "metadata": {},
   "source": [
    "# D. Лавочки в атриуме"
   ]
  },
  {
   "cell_type": "markdown",
   "metadata": {},
   "source": [
    "В атриуме нового корпуса ФНК урбанисты установили модные гранитные лавочки (на которых холодно сидеть зимой и жарко летом). Лавочка устроена следующим образом: несколько одинаковых кубических гранитных блоков ставятся в ряд, а на них кладется гранитная плита.\n",
    "\n",
    "При этом блоки располагаются так, чтобы плита не падала: для этого достаточно, чтобы и слева, и справа от центра плиты был хотя бы один гранитный блок или его часть (в частности, если центр плиты приходится на середину какого-нибудь блока, то и слева, и справа от центра плиты находится часть блока, и плита не падает).\n",
    "\n",
    "На ФНК много певокурсников (но это только пока не произошли отчисления за списывания на курсе ОиМП) и им не хватает стульев в аудиториях. Студенты обнаружили, что блоки можно использовать в аудитории в качестве сиденья. Можно по одному вытаскивать блоки, находящиеся с краю (как слева, так и справа). Они хотят вытащить из-под лавочки как можно больше блоков так, чтобы она при этом не упала (передвигать оставшиеся блоки нельзя). Определите, какие блоки они должны оставить."
   ]
  },
  {
   "cell_type": "code",
   "execution_count": 30,
   "metadata": {},
   "outputs": [
    {
     "name": "stdout",
     "output_type": "stream",
     "text": [
      "14 6\n",
      "1 6 8 11 12 13\n",
      "6 8\n"
     ]
    }
   ],
   "source": [
    "L, K = list(map(int, input().split()))\n",
    "positions = list(map(int, input().split()))\n",
    "\n",
    "# Проверить есть ли четко центральная\n",
    "# Если есть - оставить её, если нет - оставить 2 \n",
    "# ближайшие к центру.\n",
    "\n",
    "center_coord = L/2\n",
    "ind=0\n",
    "final_ind = 0\n",
    "distance = center_coord - positions[0]\n",
    "best_distance = distance\n",
    "for ind in range(len(positions)):\n",
    "    distance = center_coord - positions[ind]\n",
    "    if distance <= 0:\n",
    "        break\n",
    "    if distance < best_distance:\n",
    "        final_ind = ind\n",
    "\n",
    "if positions[final_ind]*2 +1 == L:\n",
    "    print(positions[final_ind])\n",
    "else:\n",
    "    print(positions[final_ind], positions[final_ind+1])"
   ]
  },
  {
   "cell_type": "markdown",
   "metadata": {},
   "source": [
    "# E. Дипломы в папках"
   ]
  },
  {
   "cell_type": "markdown",
   "metadata": {},
   "source": [
    "В этом году Иван заканчивает школу и поступает в вуз. За время своей учебы он часто участвовал в олимпиадах по информатике и у него накопилось много дипломов. Иван раскладывал дипломы по папкам совершенно бессистемно, то есть любой диплом мог оказаться в любой из папок. К счастью, Иван помнит, сколько дипломов лежит в каждой из папок.\n",
    "\n",
    "Иван хочет принести в приемную комиссию выбранного вуза папку, в которой находится диплом Московской олимпиады по программированию (такой диплом у Ивана ровно один). Для того чтобы понять, что в данной папке нужного диплома нет, Ивану нужно просмотреть все дипломы из этой папки. Просмотр одного диплома занимает у него ровно одну секунду и он может мгновенно переходить к просмотру следующей папки после окончания просмотра предыдущей. Порядок просмотра папок Иван может выбирать.\n",
    "\n",
    "По заданному количеству дипломов в каждой из папок требуется определить, за какое наименьшее время в худшем случае Иван поймет, в какой папке содержится нужный ему диплом."
   ]
  },
  {
   "cell_type": "code",
   "execution_count": 33,
   "metadata": {},
   "outputs": [
    {
     "name": "stdout",
     "output_type": "stream",
     "text": [
      "2\n",
      "2 1\n",
      "1\n"
     ]
    }
   ],
   "source": [
    "# Сделать 2 прохода: в первом определить самую большую\n",
    "# папку, во втором просуммировать все дипломы по \n",
    "# остальным папкам\n",
    "\n",
    "N = int(input())\n",
    "diploms = list(map(int, input().split()))\n",
    "\n",
    "biggest_folder = 0 \n",
    "biggest_number_of_diploma = diploms[0]\n",
    "for i in range(1, len(diploms)):\n",
    "    if diploms[i] > biggest_number_of_diploma:\n",
    "        biggest_number_of_diploma = diploms[i]\n",
    "        biggest_folder = i\n",
    "        \n",
    "# pop - удаление по индексу\n",
    "# remove - удаление по значению\n",
    "diploms.pop(biggest_folder)\n",
    "\n",
    "counter = 0\n",
    "for i in range(len(diploms)):\n",
    "    counter+=diploms[i]\n",
    "print(counter)"
   ]
  },
  {
   "cell_type": "code",
   "execution_count": 34,
   "metadata": {},
   "outputs": [
    {
     "name": "stdout",
     "output_type": "stream",
     "text": [
      "2\n",
      "2 1\n",
      "1\n"
     ]
    }
   ],
   "source": [
    "# Другая реализация: сразу и искать максимум и суммировать.\n",
    "# В конце вывести \"сумма - максимум\"\n",
    "N = int(input())\n",
    "diploms = list(map(int, input().split()))\n",
    "print(sum(diploms) - max(diploms))"
   ]
  }
 ],
 "metadata": {
  "kernelspec": {
   "display_name": "Python 3",
   "language": "python",
   "name": "python3"
  },
  "language_info": {
   "codemirror_mode": {
    "name": "ipython",
    "version": 3
   },
   "file_extension": ".py",
   "mimetype": "text/x-python",
   "name": "python",
   "nbconvert_exporter": "python",
   "pygments_lexer": "ipython3",
   "version": "3.7.3"
  }
 },
 "nbformat": 4,
 "nbformat_minor": 2
}
