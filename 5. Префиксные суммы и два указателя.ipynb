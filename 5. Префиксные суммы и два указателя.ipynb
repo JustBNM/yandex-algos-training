{
 "cells": [
  {
   "cell_type": "markdown",
   "metadata": {},
   "source": [
    "# [Контест](https://contest.yandex.ru/contest/29075/enter/)    \n",
    "# Домашнее задание #5 \"Префиксные суммы и два указателя\""
   ]
  },
  {
   "cell_type": "markdown",
   "metadata": {},
   "source": [
    "# A. Префиксные суммы"
   ]
  },
  {
   "cell_type": "markdown",
   "metadata": {},
   "source": [
    "В этой задаче вам нужно будет много раз отвечать на запрос «Найдите сумму чисел на отрезке в массиве»."
   ]
  },
  {
   "cell_type": "code",
   "execution_count": 2,
   "metadata": {},
   "outputs": [
    {
     "name": "stdout",
     "output_type": "stream",
     "text": [
      "4 10\n",
      "1 2 3 4\n",
      "1 1\n",
      "1\n",
      "1 2\n",
      "3\n",
      "1 4\n",
      "10\n",
      "1 3\n",
      "6\n",
      "2 2\n",
      "2\n",
      "2 3\n",
      "5\n",
      "2 4\n",
      "9\n",
      "3 3\n",
      "3\n",
      "3 4\n",
      "7\n",
      "4 4\n",
      "4\n"
     ]
    }
   ],
   "source": [
    "n, q = map(int, input().split())\n",
    "input_list = list(map(int, input().split()))\n",
    "\n",
    "prefix_sum = [0] * (len(input_list)+1)\n",
    "for i in range(1, len(prefix_sum)):\n",
    "    prefix_sum[i] = prefix_sum[i-1] + input_list[i-1]\n",
    "\n",
    "for _ in range(q):\n",
    "    l, r = map(int, input().split())\n",
    "    print(prefix_sum[r] - prefix_sum[l-1])"
   ]
  },
  {
   "cell_type": "markdown",
   "metadata": {},
   "source": [
    "# B. Максимальная сумма"
   ]
  },
  {
   "cell_type": "markdown",
   "metadata": {},
   "source": [
    "В этой задаче вам требуется найти непустой отрезок массива с максимальной суммой."
   ]
  },
  {
   "cell_type": "code",
   "execution_count": 13,
   "metadata": {},
   "outputs": [
    {
     "name": "stdout",
     "output_type": "stream",
     "text": [
      "5\n",
      "4 -10 9 5\n",
      "14\n"
     ]
    }
   ],
   "source": [
    "# Тут префиксные суммы считаются как отрезок, а не как полуинтервал\n",
    "n = int(input())\n",
    "input_list = list(map(int, input().split()))\n",
    "\n",
    "prefix_sum = [0] * (len(input_list))\n",
    "prefix_sum[0] = input_list[0]\n",
    "for i in range(1, len(prefix_sum)):\n",
    "    prefix_sum[i] = max(prefix_sum[i-1], 0) + input_list[i]\n",
    "\n",
    "print(max(prefix_sum))\n",
    "\n"
   ]
  },
  {
   "cell_type": "markdown",
   "metadata": {},
   "source": [
    "# C. Каждому по компьютеру"
   ]
  },
  {
   "cell_type": "markdown",
   "metadata": {},
   "source": [
    "В новом учебном году на занятия в компьютерные классы Дворца Творчества Юных пришли учащиеся, которые были разбиты на N групп. В i-й группе оказалось $X_i$ человек. Тут же перед директором встала серьезная проблема: как распределить группы по аудиториям. Во дворце имеется M ≥ N аудиторий, в j-й аудитории имеется $Y_j$ компьютеров. Для занятий необходимо, чтобы у каждого учащегося был компьютер и еще один компьютер был у преподавателя. Переносить компьютеры из одной аудитории в другую запрещается. Помогите директору!\n",
    "\n",
    "Напишите программу, которая найдет, какое максимальное количество групп удастся одновременно распределить по аудиториям, чтобы всем учащимся в каждой группе хватило компьютеров, и при этом остался бы еще хотя бы один для учителя."
   ]
  },
  {
   "cell_type": "code",
   "execution_count": 66,
   "metadata": {},
   "outputs": [
    {
     "name": "stdout",
     "output_type": "stream",
     "text": [
      "10 20\n",
      "471 630 24 120 61 608 323 32 641 126\n",
      "50 14 5 418 495 19 64 462 39 77 74 23 12 22 222 791 324 370 455 177 \n",
      "--------\n",
      "8\n",
      "5\n",
      "0\n",
      "9\n",
      "20\n",
      "7\n",
      "16\n",
      "17\n",
      "1\n",
      "0\n",
      "15\n"
     ]
    }
   ],
   "source": [
    "# Делаю через 2 указателя, один идёт по группе, другой по аудиториям\n",
    "N, M = map(int, input().split())\n",
    "groups = list(enumerate(map(int, input().split())))\n",
    "classroom = list(enumerate(map(int, input().split())))\n",
    "\n",
    "# отсортирую кортежи по значению\n",
    "groups = sorted(groups, key = lambda x: x[1])\n",
    "classroom = sorted(classroom, key = lambda x: x[1])\n",
    "\n",
    "counter_2 = 0\n",
    "\n",
    "answer = []\n",
    "P = 0\n",
    "\n",
    "for counter_1 in range(len(groups)):\n",
    "    while (counter_2 < len(classroom) \n",
    "            and classroom[counter_2][1] <= groups[counter_1][1]):\n",
    "        counter_2 +=1 \n",
    "    if counter_2 < len(classroom) and classroom[counter_2][1] > groups[counter_1][1]:\n",
    "        answer.append((groups[counter_1][0], classroom[counter_2][0] + 1))\n",
    "        P+=1\n",
    "        counter_2 += 1\n",
    "    else:\n",
    "        answer.append((groups[counter_1][0], 0))\n",
    "\n",
    "print(P)\n",
    "\n",
    "answer = sorted(answer, key = lambda x:x[0])\n",
    "answer = [str(i[1]) for i in answer]\n",
    "print('\\n'.join(answer))"
   ]
  },
  {
   "cell_type": "markdown",
   "metadata": {},
   "source": [
    "# D. Правильная, круглая, скобочная"
   ]
  },
  {
   "cell_type": "markdown",
   "metadata": {},
   "source": [
    "Если из правильного арифметического выражения вычеркнуть всё, кроме круглых скобок, то получится правильная скобочная последовательность. Проверьте, является ли введённая строка правильной скобочной последовательностью."
   ]
  },
  {
   "cell_type": "code",
   "execution_count": 69,
   "metadata": {},
   "outputs": [
    {
     "name": "stdout",
     "output_type": "stream",
     "text": [
      "(()))()\n",
      "NO\n"
     ]
    }
   ],
   "source": [
    "# Идти слева и проверять общую префиксную сумму скобок \"(\"=+1; \")\"=-1\n",
    "# Сумма всегда должна быть >= 0 и у последнего элемента должна быть равна 0.\n",
    "input_str = input()\n",
    "\n",
    "prefix_sum = [0]* (len(input_str)+1)\n",
    "for i in range(1, len(input_str)+1):\n",
    "    if input_str[i-1] == '(':\n",
    "        prefix_sum[i] = prefix_sum[i-1] + 1\n",
    "    elif input_str[i-1] == ')':\n",
    "        prefix_sum[i] = prefix_sum[i-1] - 1\n",
    "if min(prefix_sum) >= 0 and prefix_sum[-1]==0:\n",
    "    print('YES')\n",
    "else:\n",
    "    print('NO')"
   ]
  },
  {
   "cell_type": "markdown",
   "metadata": {},
   "source": [
    "# E. Сумма трёх"
   ]
  },
  {
   "cell_type": "markdown",
   "metadata": {},
   "source": [
    "Даны три массива целых чисел  A, B, C и целое число S.     \n",
    "Найдите такие i,j,k, что $A_i + B_j + C_k = S$."
   ]
  },
  {
   "cell_type": "code",
   "execution_count": 111,
   "metadata": {},
   "outputs": [
    {
     "name": "stdout",
     "output_type": "stream",
     "text": [
      "5\n",
      "4 1 2 3 4\n",
      "3 5 2 1\n",
      "4 5 3 2 2\n",
      "(0, 1, 2)\n"
     ]
    }
   ],
   "source": [
    "# Алгоритм решения за O(2*n^2):\n",
    "# Фиксируем input_1\n",
    "# input_2 начинаем движение с начала, а input_3 с конца.\n",
    "# Если inpit_1 + input_2 + input_3 > S: Уменьшаем input_3\n",
    "# Если sum(...) < S: увеличиваем input_2\n",
    "S = int(input())\n",
    "\n",
    "input_1 = list(map(int, input().split()))\n",
    "input_2 = list(map(int, input().split()))\n",
    "input_3 = list(map(int, input().split()))\n",
    "\n",
    "len_1 = input_1.pop(0)\n",
    "len_2 = input_2.pop(0)\n",
    "len_3 = input_3.pop(0) \n",
    "\n",
    "input_1 = sorted(list(enumerate(input_1)), key = lambda x: x[1])\n",
    "input_2 = sorted(list(enumerate(input_2)), key = lambda x: x[1])\n",
    "input_3 = sorted(list(enumerate(input_3)), key = lambda x: x[1])\n",
    "\n",
    "answer = None\n",
    "\n",
    "for idx_1, A in input_1:\n",
    "    counter_2 = 0\n",
    "    counter_3 = len_3\n",
    "    while (counter_2 < len_2 and counter_3 >= 0):\n",
    "        B = input_2[counter_2][1]\n",
    "        C = input_3[counter_3 - 1][1]\n",
    "        if A + B + C > S:\n",
    "            counter_3 -= 1\n",
    "        elif A + B + C < S:\n",
    "            counter_2 += 1\n",
    "        elif A + B + C == S:\n",
    "            if answer == None:\n",
    "                answer = (idx_1, input_2[counter_2][0], input_3[counter_3 - 1][0])\n",
    "            else:\n",
    "                answer = min(answer, (idx_1, input_2[counter_2][0], input_3[counter_3 - 1][0]))\n",
    "            counter_3 -= 1\n",
    "if answer == None:\n",
    "    print(-1)\n",
    "else:\n",
    "    print(*answer)"
   ]
  },
  {
   "cell_type": "markdown",
   "metadata": {},
   "source": [
    "Раньше добавлял ответы в массив и в конце выбирал из них наименьший, однако это не прошло по памяти"
   ]
  },
  {
   "cell_type": "markdown",
   "metadata": {},
   "source": [
    "Можно было сделать через словарь:   \n",
    "Добавить в словарь ключи вида $S - C_i$,    \n",
    "После чего квадратично пройтись по сумме 1 и 2 массива, проверяя, нет ли нехватающего элемента в словаре. Индекс элемента массива будет значением этого ключа, чтобы потом можно было вывести индексы.   \n",
    "В таком решении множества можно было не сортировать и закончить поиск найдя первое вхождение (имеющее наименьший индекс)."
   ]
  }
 ],
 "metadata": {
  "kernelspec": {
   "display_name": "Python 3",
   "language": "python",
   "name": "python3"
  },
  "language_info": {
   "codemirror_mode": {
    "name": "ipython",
    "version": 3
   },
   "file_extension": ".py",
   "mimetype": "text/x-python",
   "name": "python",
   "nbconvert_exporter": "python",
   "pygments_lexer": "ipython3",
   "version": "3.7.3"
  }
 },
 "nbformat": 4,
 "nbformat_minor": 2
}
