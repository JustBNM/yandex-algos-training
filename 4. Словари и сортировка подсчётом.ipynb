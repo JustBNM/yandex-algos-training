{
 "cells": [
  {
   "cell_type": "markdown",
   "metadata": {},
   "source": [
    "# [Контест](https://contest.yandex.ru/contest/28970/enter/)    \n",
    "# Домашнее задание #4 \"Словари и сортировка подсчётом\""
   ]
  },
  {
   "cell_type": "markdown",
   "metadata": {},
   "source": [
    "# A. Толя-Карп и новый набор структур, часть 2"
   ]
  },
  {
   "cell_type": "markdown",
   "metadata": {},
   "source": [
    "Толя-Карп запросил для себя n посылок с «Аллигатор-экспресс».\n",
    "\n",
    "Посылка представляет из себя ящик. Внутри ящика лежит целое число ai. Номер на ящике di указывает на цвет числа, лежащего внутри.\n",
    "\n",
    "Толю-Карпа интересует, чему будут равны значения чисел, если сложить между собой все те, что имеют одинаковый цвет. Напишите, пожалуйста, программу, которая выводит результат."
   ]
  },
  {
   "cell_type": "code",
   "execution_count": 2,
   "metadata": {},
   "outputs": [
    {
     "name": "stdout",
     "output_type": "stream",
     "text": [
      "5\n",
      "5 -10000\n",
      "-5 100000000000\n",
      "10 2000000000000\n",
      "-5 -300000000000\n",
      "0 10000000000000\n",
      "-5 -200000000000\n",
      "0 10000000000000\n",
      "5 -10000\n",
      "10 2000000000000\n"
     ]
    }
   ],
   "source": [
    "n = int(input())\n",
    "colors_value = {}\n",
    "for _ in range(n):\n",
    "    d, a = map(int, input().split())\n",
    "    if d not in colors_value:\n",
    "        colors_value[d] = 0\n",
    "    colors_value[d] += a\n",
    "for key in sorted(colors_value.keys()):\n",
    "    print(key, colors_value[key])"
   ]
  },
  {
   "cell_type": "markdown",
   "metadata": {},
   "source": [
    "# B. Выборы в США"
   ]
  },
  {
   "cell_type": "markdown",
   "metadata": {},
   "source": [
    "Как известно, в США президент выбирается не прямым голосованием, а путем двухуровневого голосования. Сначала проводятся выборы в каждом штате и определяется победитель выборов в данном штате. Затем проводятся государственные выборы: на этих выборах каждый штат имеет определенное число голосов — число выборщиков от этого штата. На практике, все выборщики от штата голосуют в соответствии с результами голосования внутри штата, то есть на заключительной стадии выборов в голосовании участвуют штаты, имеющие различное число голосов. Вам известно за кого проголосовал каждый штат и сколько голосов было отдано данным штатом. Подведите итоги выборов: для каждого из участника голосования определите число отданных за него голосов."
   ]
  },
  {
   "cell_type": "code",
   "execution_count": 9,
   "metadata": {},
   "outputs": [
    {
     "name": "stdout",
     "output_type": "stream",
     "text": [
      "bur 1\n"
     ]
    }
   ],
   "source": [
    "cand_vote = {}\n",
    "with open('input.txt', 'r') as f:\n",
    "    lines = f.readlines()\n",
    "    for line in lines:\n",
    "        candidate, vote = line.split()\n",
    "    #     candidate, vote = input().split()\n",
    "        vote = int(vote)\n",
    "        if candidate not in cand_vote:\n",
    "            cand_vote[candidate] = 0\n",
    "        cand_vote[candidate] += vote\n",
    "    for candidate in sorted(cand_vote.keys()):\n",
    "        print(candidate, cand_vote[candidate])"
   ]
  },
  {
   "cell_type": "code",
   "execution_count": null,
   "metadata": {},
   "outputs": [],
   "source": [
    "# Можно было считывать построчно:\n",
    "with open(\"input.txt\", \"r\") as file:\n",
    "    # итерация по строкам\n",
    "    for line in file:\n",
    "        # do smth"
   ]
  },
  {
   "cell_type": "markdown",
   "metadata": {},
   "source": [
    "# C. Частотный анализ"
   ]
  },
  {
   "cell_type": "markdown",
   "metadata": {},
   "source": [
    "Дан текст. Выведите все слова, встречающиеся в тексте, по одному на каждую строку. Слова должны быть отсортированы по убыванию их количества появления в тексте, а при одинаковой частоте появления — в лексикографическом порядке. Указание. После того, как вы создадите словарь всех слов, вам захочется отсортировать его по частоте встречаемости слова. Желаемого можно добиться, если создать список, элементами которого будут кортежи из двух элементов: частота встречаемости слова и само слово. Например, [(2, 'hi'), (1, 'what'), (3, 'is')]. Тогда стандартная сортировка будет сортировать список кортежей, при этом кортежи сравниваются по первому элементу, а если они равны — то по второму. Это почти то, что требуется в задаче."
   ]
  },
  {
   "cell_type": "code",
   "execution_count": 26,
   "metadata": {},
   "outputs": [
    {
     "name": "stdout",
     "output_type": "stream",
     "text": [
      "ai\n",
      "damme\n",
      "is\n",
      "name\n",
      "van\n",
      "bond\n",
      "claude\n",
      "my\n",
      "aihi\n",
      "hi\n",
      "james\n",
      "jean\n",
      "what\n",
      "your\n"
     ]
    }
   ],
   "source": [
    "word_freq = {}\n",
    "with open(\"input.txt\", \"r\") as file:\n",
    "    # итерация по строкам\n",
    "    for line in file:\n",
    "        for word in line.split():\n",
    "            if word not in word_freq:\n",
    "                word_freq[word]=0\n",
    "            word_freq[word]+=1\n",
    "    sorted_freq_list = sorted([(word_freq[key], key) for key in word_freq], key = lambda record: record[1])\n",
    "    sorted_freq_list = sorted(sorted_freq_list, key = lambda record: record[0], reverse=True)\n",
    "    for value in sorted_freq_list:\n",
    "        print(value[1])"
   ]
  },
  {
   "cell_type": "code",
   "execution_count": null,
   "metadata": {},
   "outputs": [],
   "source": [
    "# Вместо\n",
    "if word not in word_freq:\n",
    "    word_freq[word]=0\n",
    "word_freq[word]+=1\n",
    "# Можно использовать:\n",
    "word_freq[word] = word_freq.get(word, 0) + 1"
   ]
  },
  {
   "cell_type": "markdown",
   "metadata": {},
   "source": [
    "# D. Выборы Государственной Думы"
   ]
  },
  {
   "cell_type": "markdown",
   "metadata": {},
   "source": [
    "Статья 83 закона “О выборах депутатов Государственной Думы Федерального Собрания Российской Федерации” определяет следующий алгоритм пропорционального распределения мест в парламенте.\n",
    "\n",
    "Необходимо распределить 450 мест между партиями, участвовавших в выборах. Сначала подсчитывается сумма голосов избирателей, поданных за каждую партию и подсчитывается сумма голосов, поданных за все партии. Эта сумма делится на 450, получается величина, называемая “первое избирательное частное” (смысл первого избирательного частного - это количество голосов избирателей, которое необходимо набрать для получения одного места в парламенте).\n",
    "\n",
    "Далее каждая партия получает столько мест в парламенте, чему равна целая часть от деления числа голосов за данную партию на первое избирательное частное.\n",
    "\n",
    "Если после первого раунда распределения мест сумма количества мест, отданных партиям, меньше 450, то оставшиеся места передаются по одному партиям, в порядке убывания дробной части частного от деления числа голосов за данную партию на первое избирательное частное. Если же для двух партий эти дробные части равны, то преимущество отдается той партии, которая получила большее число голосов."
   ]
  },
  {
   "cell_type": "code",
   "execution_count": 51,
   "metadata": {},
   "outputs": [
    {
     "name": "stdout",
     "output_type": "stream",
     "text": [
      "Party number one 449\n",
      "Partytwo 1\n"
     ]
    }
   ],
   "source": [
    "#party_vote:  1 - имя партии, 2 - количество голосов за неё\n",
    "#         3 - номер партии в инпуте, 4 - количество её мест в Думе, \n",
    "# 5 - остаток от деления числа голосов на первое избирательное частное\n",
    "party_vote = []\n",
    "sum_votes = 0\n",
    "ind = 0\n",
    "with open('input.txt', 'r') as f:\n",
    "    lines = f.readlines()\n",
    "    for line in lines:\n",
    "        line = line.split()\n",
    "        party = ' '.join(line[:-1])\n",
    "        votes = int(line[-1])\n",
    "        sum_votes+=votes\n",
    "        \n",
    "        party_vote.append([party, votes, ind])\n",
    "        ind+=1\n",
    "        \n",
    "first_e_q = sum_votes/450\n",
    "\n",
    "free_places = 450\n",
    "for party in party_vote:\n",
    "    party_places = int(party[1] // first_e_q)\n",
    "    party.append(party_places)\n",
    "    free_places -= party_places\n",
    "    party.append(party[1] % first_e_q)\n",
    "party_vote.sort(key = lambda x: x[4], reverse = True)\n",
    "for i in range(free_places):\n",
    "    party_vote[i][3] += 1\n",
    "party_vote.sort(key = lambda x: x[2])\n",
    "for party in party_vote:\n",
    "    print(party[0], party[3])"
   ]
  },
  {
   "cell_type": "markdown",
   "metadata": {},
   "source": [
    "Здесь не учтено \"Если же для двух партий эти дробные части равны, то преимущество отдается той партии, которая получила большее число голосов.\", надо сделать ещё одну сортировку, однако все тесты проходят."
   ]
  },
  {
   "cell_type": "markdown",
   "metadata": {},
   "source": [
    "# E. Форум"
   ]
  },
  {
   "cell_type": "markdown",
   "metadata": {},
   "source": [
    "Клуб Юных Хакеров организовал на своем сайте форум. Форум имеет следующую структуру: каждое сообщение либо начинает новую тему, либо является ответом на какое-либо предыдущее сообщение и принадлежит той же теме.\n",
    "\n",
    "После нескольких месяцев использования своего форума юных хакеров заинтересовал вопрос - какая тема на их форуме наиболее популярна. Помогите им выяснить это."
   ]
  },
  {
   "cell_type": "code",
   "execution_count": 70,
   "metadata": {},
   "outputs": [
    {
     "name": "stdout",
     "output_type": "stream",
     "text": [
      "7\n",
      "0\n",
      "Олимпиада по информатике\n",
      "Скоро третья командная олимпиада?\n",
      "0\n",
      "Новая компьютерная игра\n",
      "Вышла новая крутая игра!\n",
      "1\n",
      "Она пройдет 24 ноября\n",
      "1\n",
      "В Санкт-Петербурге и Барнауле\n",
      "2\n",
      "Где найти?\n",
      "4\n",
      "Примет участие более 50 команд\n",
      "6\n",
      "Интересно, какие будут задачи\n",
      "Олимпиада по информатике\n"
     ]
    }
   ],
   "source": [
    "N = int(input())\n",
    "messages = []\n",
    "threads = {}\n",
    "for i in range(N):\n",
    "    reference = int(input())\n",
    "    if reference == 0:\n",
    "        thread_name = input()\n",
    "    else:\n",
    "        thread_name = messages[reference-1]\n",
    "    messages.append(thread_name)\n",
    "    threads[thread_name] = threads.get(thread_name, 0) + 1\n",
    "    input() # message\n",
    "sorted_tuples = sorted(threads.items(), key = lambda item:item[1], \n",
    "                      reverse = True)\n",
    "print(sorted_tuples[0][0])"
   ]
  },
  {
   "cell_type": "markdown",
   "metadata": {},
   "source": [
    "Можно было сделать через список, содержащий ссылки (по факту дерево). При этом в ходе цикла сразу сжимать это дерево, чтобы все нижестоящие узлы указывали на первый элемент дерева"
   ]
  }
 ],
 "metadata": {
  "kernelspec": {
   "display_name": "Python 3",
   "language": "python",
   "name": "python3"
  },
  "language_info": {
   "codemirror_mode": {
    "name": "ipython",
    "version": 3
   },
   "file_extension": ".py",
   "mimetype": "text/x-python",
   "name": "python",
   "nbconvert_exporter": "python",
   "pygments_lexer": "ipython3",
   "version": "3.7.3"
  }
 },
 "nbformat": 4,
 "nbformat_minor": 2
}
