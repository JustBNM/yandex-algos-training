{
 "cells": [
  {
   "cell_type": "markdown",
   "metadata": {},
   "source": [
    "# [Контест](https://contest.yandex.ru/contest/29403/enter/)    \n",
    "# Домашнее задание #8 \"Деревья\""
   ]
  },
  {
   "cell_type": "markdown",
   "metadata": {},
   "source": [
    "# A. Бинарное дерево (вставка, поиск, обход)"
   ]
  },
  {
   "cell_type": "markdown",
   "metadata": {},
   "source": [
    "Напишите программу, которая будет реализовывать действия в бинарном дереве поиска «вставить» и «найти» (по значению). Программа должна обрабатывать запросы трёх видов:\n",
    "\n",
    "ADD n — если указанного числа еще нет в дереве, вставлять его и выводить слово «DONE», если уже есть — оставлять дерево как было и выводить слово «ALREADY».\n",
    "\n",
    "SEARCH — следует выводить слово «YES» (если значение найдено в дереве) или слово «NO» (если не найдено). Дерево при этом не меняется.\n",
    "\n",
    "PRINTTREE — выводить все дерево, обязательно используя алгоритм, указанный в формате вывода результатов."
   ]
  },
  {
   "cell_type": "markdown",
   "metadata": {},
   "source": [
    "### Решение на функциях"
   ]
  },
  {
   "cell_type": "code",
   "execution_count": 68,
   "metadata": {},
   "outputs": [
    {
     "name": "stdout",
     "output_type": "stream",
     "text": [
      "DONE\n",
      "DONE\n",
      "399604\n",
      ".911137\n",
      "DONE\n",
      "DONE\n",
      "DONE\n",
      "NO\n",
      "DONE\n",
      "YES\n",
      "YES\n",
      "YES\n",
      "399604\n",
      "....441212\n",
      "...468712\n",
      "....701860\n",
      "..823319\n",
      ".911137\n"
     ]
    }
   ],
   "source": [
    "binary_tree = [None, [None], [None]]\n",
    "\n",
    "\n",
    "def find_struct(tree, x):\n",
    "    root = tree[0]\n",
    "    if root == x:\n",
    "        return 'YES'\n",
    "    if root == None:\n",
    "        return 'NO'\n",
    "    if root < x:\n",
    "        right = tree[2]\n",
    "        if right[0] == None:\n",
    "            return 'NO'\n",
    "        else:\n",
    "            return find_struct(right, x)\n",
    "    if root > x:\n",
    "        left = tree[1]\n",
    "        if left[0] == None:\n",
    "            return 'NO'\n",
    "        else:\n",
    "            return find_struct(left, x)\n",
    "\n",
    "\n",
    "def add_struct(tree, x):\n",
    "    root = tree[0]\n",
    "    if root == None:\n",
    "        tree[0] = x\n",
    "        return 'DONE'\n",
    "    if root == x:\n",
    "        return 'ALREADY'\n",
    "    if root < x:\n",
    "        right = tree[2]\n",
    "        if right[0] == None:\n",
    "            tree[2] = [x, [None], [None]]\n",
    "            return 'DONE'\n",
    "        else:\n",
    "            return add_struct(right, x)\n",
    "    if root > x:\n",
    "        left = tree[1]\n",
    "        if left[0] == None:\n",
    "            tree[1] = [x, [None], [None]]\n",
    "            return 'DONE'\n",
    "        else:\n",
    "            return add_struct(left, x)\n",
    "\n",
    "\n",
    "def print_tree(tree, prefix):\n",
    "    'Центрированный (In-Order) обход'\n",
    "    if tree[0]:\n",
    "        prefix.append('.')\n",
    "        print_tree(tree[1], prefix)\n",
    "        print(''.join(prefix[1:]+[str(tree[0])]))\n",
    "        print_tree(tree[2], prefix)\n",
    "        prefix.remove('.')\n",
    "\n",
    "\n",
    "with open('input.txt', 'r') as f:\n",
    "    while True:\n",
    "        query = f.readline().split()\n",
    "        if not query:\n",
    "            break\n",
    "        if query[0] == 'ADD':\n",
    "            ans = add_struct(binary_tree, int(query[1]))\n",
    "            print(ans)\n",
    "        if query[0] == 'SEARCH':\n",
    "            ans = find_struct(binary_tree, int(query[1]))\n",
    "            print(ans)\n",
    "        if query[0] == 'PRINTTREE':\n",
    "            print_tree(binary_tree, [])"
   ]
  },
  {
   "cell_type": "markdown",
   "metadata": {},
   "source": [
    "### Решение с использованием класса"
   ]
  },
  {
   "cell_type": "code",
   "execution_count": 132,
   "metadata": {},
   "outputs": [
    {
     "name": "stdout",
     "output_type": "stream",
     "text": [
      "DONE\n",
      "DONE\n",
      "399604\n",
      ".911137\n",
      "DONE\n",
      "DONE\n",
      "DONE\n",
      "NO\n",
      "DONE\n",
      "YES\n",
      "YES\n",
      "YES\n",
      "399604\n",
      "....441212\n",
      "...468712\n",
      "....701860\n",
      "..823319\n",
      ".911137\n"
     ]
    }
   ],
   "source": [
    "class Node:\n",
    "    def __init__(self, value):\n",
    "        self.value = value\n",
    "        self.left = None\n",
    "        self.right = None\n",
    "        \n",
    "class Tree:\n",
    "    def __init__(self):\n",
    "        self.root = None\n",
    "        \n",
    "    def add_node(self, x):\n",
    "        if self.root is None:\n",
    "            self.root = Node(x)\n",
    "            print('DONE')\n",
    "        else:\n",
    "            self._add(x, self.root)\n",
    "        \n",
    "    def _add(self, val, node):\n",
    "        if val == node.value:\n",
    "            print('ALREADY')\n",
    "            return 1\n",
    "        \n",
    "        if val < node.value:\n",
    "            if node.left is not None:\n",
    "                self._add(val, node.left)\n",
    "            else:\n",
    "                node.left = Node(val)\n",
    "                print('DONE')\n",
    "        else:\n",
    "            if node.right is not None:\n",
    "                self._add(val, node.right)\n",
    "            else:\n",
    "                node.right = Node(val)\n",
    "                print('DONE')\n",
    "    \n",
    "    def lookup(self, node, target):\n",
    "        if node == None:\n",
    "            print('NO')\n",
    "        else:\n",
    "            if target == node.value: \n",
    "                print('YES')\n",
    "            else:\n",
    "                if target < node.value: \n",
    "                    return self.lookup(node.left, target)\n",
    "                else: \n",
    "                    return self.lookup(node.right, target)\n",
    "    \n",
    "def print_tree(node, prefix):\n",
    "    'Центрированный (In-Order) обход'\n",
    "    if node is not None:\n",
    "        prefix.append('.')\n",
    "        print_tree(node.left, prefix)\n",
    "        print(''.join(prefix[1:]+[str(node.value)]))\n",
    "        print_tree(node.right, prefix)\n",
    "        prefix.remove('.')\n",
    "\n",
    "tree = Tree()\n",
    "\n",
    "with open('input.txt', 'r') as f:\n",
    "    while True:\n",
    "        query = f.readline().split()\n",
    "        if not query:\n",
    "            break\n",
    "        if query[0] == 'ADD':\n",
    "            tree.add_node(int(query[1]))\n",
    "        if query[0] == 'SEARCH':\n",
    "            tree.lookup(tree.root, int(query[1]))\n",
    "        if query[0] == 'PRINTTREE':\n",
    "            print_tree(tree.root, [])"
   ]
  },
  {
   "cell_type": "code",
   "execution_count": 127,
   "metadata": {},
   "outputs": [],
   "source": [
    "tree.root.left"
   ]
  },
  {
   "cell_type": "markdown",
   "metadata": {},
   "source": [
    "# B. Родословная: предки и потомки"
   ]
  },
  {
   "cell_type": "markdown",
   "metadata": {},
   "source": [
    "В генеалогическом древе у каждого человека, кроме родоначальника, есть ровно один родитель.\n",
    "\n",
    "Каждом элементу дерева сопоставляется целое неотрицательное число, называемое высотой. У родоначальника высота равна 0, у любого другого элемента высота на 1 больше, чем у его родителя.\n",
    "\n",
    "Даны два элемента в дереве. Определите, является ли один из них потомком другого."
   ]
  },
  {
   "cell_type": "code",
   "execution_count": 146,
   "metadata": {},
   "outputs": [
    {
     "name": "stdout",
     "output_type": "stream",
     "text": [
      "1 2 0\n"
     ]
    }
   ],
   "source": [
    "# Создаю словарь key: Потомок, value: Его предок\n",
    "# Поиск родства проверяю по этому словарю\n",
    "def kinship(person_1, person_2):\n",
    "    'Проверка, является ли person_2 каким-то из предков person_1'\n",
    "    while person_1 in child_par: # Пробегаюсь по всем последовательным предкам человека, сравнивая их со вторым человеком\n",
    "        parent = child_par[person_1]\n",
    "        if parent == person_2: # Совпадение найдено\n",
    "            return 1\n",
    "        person_1 = parent\n",
    "    # Если не произошло совпадения среди предков person_1 с person_2\n",
    "    return 0\n",
    "child_par = {}\n",
    "with open('input.txt', 'r') as f:\n",
    "    N = int(f.readline())\n",
    "    for _ in range(N-1):\n",
    "        child, parent = f.readline().split()\n",
    "        child_par[child] = parent\n",
    "        \n",
    "    answer = []\n",
    "    query = f.readline().split()\n",
    "    \n",
    "    while query:\n",
    "        person_1, person_2 = query\n",
    "        if kinship(person_1, person_2):\n",
    "            answer.append('2')\n",
    "        elif kinship(person_2, person_1):\n",
    "            answer.append('1')\n",
    "        else:\n",
    "            answer.append('0')\n",
    "        query = f.readline().split()\n",
    "print(' '.join(answer))"
   ]
  },
  {
   "cell_type": "code",
   "execution_count": 147,
   "metadata": {},
   "outputs": [
    {
     "data": {
      "text/plain": [
       "{'Alexei': 'Peter_I',\n",
       " 'Anna': 'Peter_I',\n",
       " 'Elizabeth': 'Peter_I',\n",
       " 'Peter_II': 'Alexei',\n",
       " 'Peter_III': 'Anna',\n",
       " 'Paul_I': 'Peter_III',\n",
       " 'Alexander_I': 'Paul_I',\n",
       " 'Nicholaus_I': 'Paul_I'}"
      ]
     },
     "execution_count": 147,
     "metadata": {},
     "output_type": "execute_result"
    }
   ],
   "source": [
    "child_par"
   ]
  },
  {
   "cell_type": "markdown",
   "metadata": {},
   "source": [
    "# C. Родословная: LCA"
   ]
  },
  {
   "cell_type": "markdown",
   "metadata": {},
   "source": [
    "В генеалогическом древе определите для двух элементов их наименьшего общего предка. Наименьшим общим предком элементов A и B является такой элемент C, что С является предком A, C является предком B, при этом глубина C является наибольшей из возможных. При этом элемент считается своим собственным предком."
   ]
  },
  {
   "cell_type": "code",
   "execution_count": 154,
   "metadata": {},
   "outputs": [
    {
     "name": "stdout",
     "output_type": "stream",
     "text": [
      "Paul_I\n",
      "Peter_I\n",
      "Anna\n"
     ]
    }
   ],
   "source": [
    "# Создаю словарь key: Потомок, value: Его предок\n",
    "child_par = {}\n",
    "\n",
    "# Тк у каждого человека точно имеется общий предок по условию задачи, а родителем может быть только 1 человек,\n",
    "# то началом отсчёта глубины у людей в генеалогическом древе является один и тот же человек.\n",
    "\n",
    "# Ход решения\n",
    "# 1. Найдём глубину каждого человека в генеалогическом древе\n",
    "# 2. Поднимем более глубокого человека до уровня менее глубокого в дереве человека\n",
    "# 3. Когда их глубина совпадает будем делать сравнения, совпадают ли найденные люди на этом уровне. \n",
    "# 4. Если не сопадают - одновременно поднимем уровень у обоих людей и сравним снова.\n",
    "\n",
    "def depth(person):\n",
    "    'Глубина person в генеалогическом древе'\n",
    "    depth = 0\n",
    "    while person in child_par: \n",
    "        depth += 1\n",
    "        person = child_par[person]\n",
    "    return depth\n",
    "\n",
    "def common_ancestor(person_1, person_2):\n",
    "    'поиск ближайщего предка людей person_1, person_2'\n",
    "    depth_1 = depth(person_1)\n",
    "    depth_2 = depth(person_2)\n",
    "    # Поиск кто лежит ниже (person_max - человек лежищий глубже в древе)\n",
    "    if depth_1 >= depth_2:\n",
    "        depth_max, depth_min = depth_1, depth_2\n",
    "        person_max, person_min = person_1, person_2\n",
    "    else:\n",
    "        depth_max, depth_min = depth_2, depth_1\n",
    "        person_max, person_min = person_2, person_1\n",
    "    \n",
    "    #Подъем более глубокого до уровня менее глубокого\n",
    "    while depth_max != depth_min:\n",
    "        person_max = child_par[person_max]\n",
    "        depth_max -= 1\n",
    "        \n",
    "    #Одновременный подъем до общего предка\n",
    "    while person_max != person_min:\n",
    "        person_max = child_par[person_max]\n",
    "        person_min = child_par[person_min]\n",
    "    return person_min\n",
    "\n",
    "with open('input.txt', 'r') as f:\n",
    "    N = int(f.readline())\n",
    "    for _ in range(N-1):\n",
    "        child, parent = f.readline().split()\n",
    "        child_par[child] = parent\n",
    "        \n",
    "    answer = []\n",
    "    query = f.readline().split()\n",
    "    \n",
    "    while query:\n",
    "        person_1, person_2 = query\n",
    "        print(common_ancestor(person_1, person_2))\n",
    "        query = f.readline().split()"
   ]
  },
  {
   "cell_type": "markdown",
   "metadata": {},
   "source": [
    "Проверить потом, можно ли решить эту задачу, положив всех предков человека в виде tuple (предок, индекс предка) в set. Затем взять разницу двух сэтов и найти значение с меньшим индексом."
   ]
  },
  {
   "cell_type": "markdown",
   "metadata": {},
   "source": [
    "# D. Бусинки"
   ]
  },
  {
   "cell_type": "markdown",
   "metadata": {},
   "source": [
    "Маленький мальчик делает бусы. У него есть много пронумерованных бусинок. Каждая бусинка имеет уникальный номер – целое число в диапазоне от 1 до N. Он выкладывает все бусинки на полу и соединяет бусинки между собой произвольным образом так, что замкнутых фигур не образуется. Каждая из бусинок при этом оказывается соединенной с какой-либо другой бусинкой.\n",
    "\n",
    "Требуется определить, какое максимальное количество последовательно соединенных бусинок присутствует в полученной фигуре.\n",
    "\n"
   ]
  },
  {
   "cell_type": "code",
   "execution_count": 217,
   "metadata": {},
   "outputs": [
    {
     "name": "stdout",
     "output_type": "stream",
     "text": [
      "10\n"
     ]
    }
   ],
   "source": [
    "# Задача на поиск наиболее длинного пути в графе. Поиск диаметра дерева.  Выполняется за 2 поиска в ширину(BFS).\n",
    "\n",
    "# Ход решения:\n",
    "# 1. Создадим дерево\n",
    "# 2. Возьмем случайную вершину и найдём для неё наиболее удаленную вершину полным перебором. \n",
    "# Эта вершина будет одним краем диаметра\n",
    "# 3. Возьмем найденную вершину и найдем для неё самую удаленную. \n",
    "# Расстояние между ними будет диаметром дерева и ответом на задачу.\n",
    "\n",
    "# Дерево (не бинарное) будем строить в виде словаря, представляющего список смежности.\n",
    "\n",
    "tree = {}\n",
    "with open('input.txt', 'r') as f:\n",
    "    N = int(f.readline())\n",
    "    for _ in range(N-1):\n",
    "        bead_1, bead_2 = map(int, f.readline().split())\n",
    "        tree.setdefault(bead_1, []).append(bead_2)\n",
    "        tree.setdefault(bead_2, []).append(bead_1)\n",
    "        \n",
    "    \n",
    "def bfs(init):\n",
    "    'Ищёт самую удаленную вершину и расстояние до неё'\n",
    "    \n",
    "    # Добавим к списку смежности расстояние до некоторой опорной вершины. \n",
    "    # Для начала инициализируем расстояния нулями\n",
    "    tree_with_distance = {}\n",
    "    for key in tree:\n",
    "        tree_with_distance[key] = [tree[key],0]\n",
    "    \n",
    "    visited = set()\n",
    "    queue = []\n",
    "    \n",
    "    queue.append(init)\n",
    "    while queue:\n",
    "        head = queue.pop(0)\n",
    "        for neighbour in tree_with_distance[head][0]:\n",
    "            if neighbour not in visited:\n",
    "                queue.append(neighbour)\n",
    "                tree_with_distance[neighbour][1] = tree_with_distance[head][1] + 1\n",
    "        visited.add(head)\n",
    "    \n",
    "    max_distance = 0\n",
    "    max_distance_key = list(tree_with_distance.keys())[0]\n",
    "    for key in tree_with_distance.keys():\n",
    "        distance = tree_with_distance[key][1]\n",
    "        if distance > max_distance:\n",
    "            max_distance = distance\n",
    "            max_distance_key = key\n",
    "    return max_distance, max_distance_key\n",
    "\n",
    "if len(tree) > 1:\n",
    "    _, max_distance_key = bfs(list(tree.keys())[0])\n",
    "    max_distance, _ = bfs(max_distance_key)\n",
    "else:\n",
    "    max_distance = 0\n",
    "number_of_beads = max_distance + 1    \n",
    "print(number_of_beads)"
   ]
  },
  {
   "cell_type": "code",
   "execution_count": 221,
   "metadata": {},
   "outputs": [
    {
     "data": {
      "text/plain": [
       "{1: [2, 6],\n",
       " 2: [1, 3],\n",
       " 3: [2, 4],\n",
       " 4: [3, 5],\n",
       " 5: [4],\n",
       " 6: [1, 10],\n",
       " 10: [6, 9],\n",
       " 9: [10, 8],\n",
       " 8: [9, 7],\n",
       " 7: [8]}"
      ]
     },
     "execution_count": 221,
     "metadata": {},
     "output_type": "execute_result"
    }
   ],
   "source": [
    "tree"
   ]
  },
  {
   "cell_type": "markdown",
   "metadata": {},
   "source": [
    "# E. Дерево Хаффмана"
   ]
  },
  {
   "attachments": {
    "image.png": {
     "image/png": "[encoded data removed]"
    }
   },
   "cell_type": "markdown",
   "metadata": {},
   "source": [
    "Алгоритм Хаффмана позволяет кодировать символы алфавита беспрефиксным кодом различной длины, сопоставляя частым символам более короткий код, а редким - более длинный. Этот алгоритм используется во многих программах сжатия данных. Код символа определяется по следующим правилам:\n",
    "\n",
    "1. Символы входного алфавита образуют список свободных узлов. Каждый лист имеет вес, который может быть равен либо вероятности, либо количеству вхождений символа в сжимаемое сообщение.\n",
    "\n",
    "2. Выбираются два свободных узла дерева с наименьшими весами.\n",
    "\n",
    "3. Создается их родитель с весом, равным их суммарному весу.\n",
    "\n",
    "4. Родитель добавляется в список свободных узлов, а два его потомка удаляются из этого списка.\n",
    "\n",
    "5. Правой дуге, выходящей из родителя, ставится в соответствие бит 1, левой - бит 0. Битовые значения ветвей, исходящих от корня, не зависят от весов потомков.\n",
    "\n",
    "6. Шаги, начиная со второго, повторяются до тех пор, пока в списке свободных узлов не останется только один свободный узел. Он и будет считаться корнем дерева.\n",
    "\n",
    "Пусть буквы \"а\" встречается в сообщении 4 раза, буква \"б\" - 3 раза, а буквы \"в\" и \"г\" - по 1 разу. Этим частотам может быть сопоставлено такое дерево:\n",
    "\n",
    "![image.png](attachment:image.png)\n",
    "\n",
    "Двоичный код буквы - это все цифры на пути из корня дерева в лист, соответствующей этой букве.\n",
    "\n",
    "Для эффективного сжатия также важно максимально экономно хранить дерево Хаффмана. Опишем обход в глубину этого дерева, при этом мы будем сначала полностью обходить левое поддерево, затем возвращаться в узел, а затем обходить правое поддерево. Каждый раз проходя по ребру будем записывать букву L, R или U в зависимости от того, куда мы шли по ребру (L - в левого ребенка, R- в правого ребенка, U - в родителя). Приведенному в примере дереву будет соответствовать строка:\n",
    "\n",
    "LURLLURUURUU\n",
    "\n",
    "Такая строка позволяет однозначно восстановить дерево и сопоставить двоичные коды всем листьям дерева. Однако, запись можно модифицировать, заменив ребра типа L и R на ребра типа D, которое означает, что мы спускаемся в ребенка (сначала в левого, а если левый посещен - в правого). Тогда запись для нашего дерева будет выглядеть так:\n",
    "\n",
    "DUDDDUDUUDUU\n",
    "\n",
    "По этой строке также однозначно возможно восстановить структуру дерева. Она использует алфавит только из двух символов вместо трёх и может быть закодирована меньшим числом бит.\n",
    "\n",
    "Эту запись также можно модифицировать, заменив смысл команды U. Теперь U будет обозначать, что мы поднимаемся к предку текущей вершины до тех пор, пока мы правый ребёнок. Если при подъёме мы пришли в вершину из левого ребенка, то сразу перейдем в правого. Запись для нашего дерева будет выглядеть так:\n",
    "\n",
    "DUDDUU\n",
    "\n",
    "Вам необходимо по записи, построенной по таким правилам, определить коды для всех листьев в порядке их обхода."
   ]
  },
  {
   "cell_type": "code",
   "execution_count": 275,
   "metadata": {},
   "outputs": [
    {
     "name": "stdout",
     "output_type": "stream",
     "text": [
      "3\n",
      "DDUUDU\n",
      "4\n",
      "00\n",
      "01\n",
      "10\n",
      "11\n",
      "DUDUDUDDUDUU\n",
      "7\n",
      "0\n",
      "10\n",
      "110\n",
      "11100\n",
      "111010\n",
      "111011\n",
      "1111\n",
      "DDDDUDDUUUUU\n",
      "7\n",
      "0000\n",
      "000100\n",
      "000101\n",
      "00011\n",
      "001\n",
      "01\n",
      "1\n"
     ]
    }
   ],
   "source": [
    "# Сперва восстановим дерево, потом считаем из него коды листьев.\n",
    "# P.S. Можно было обойтись без восстановления дерева, печатая сразу по входу.\n",
    "N = int(input())\n",
    "\n",
    "def make_tree(serialized):\n",
    "    tree = {'left': None, 'right': None, 'up': None, 'type': 'root'}\n",
    "    now_node = tree\n",
    "    number_of_node = 0\n",
    "    for command in serialized:\n",
    "        if command == 'D':\n",
    "            now_node['left'] = {'left': None, 'right': None, 'up': now_node, 'type':'left'}\n",
    "            now_node = now_node['left']\n",
    "        if command == 'U':\n",
    "            while now_node['type'] == 'right':\n",
    "                now_node = now_node['up']\n",
    "            now_node = now_node['up']\n",
    "            now_node['right'] = {'left': None, 'right': None, 'up': now_node, 'type':'right'}\n",
    "            now_node = now_node['right']\n",
    "    return tree\n",
    "\n",
    "def traverse(tree, prefix):\n",
    "    'Считывание кодов листьев'\n",
    "    if tree['right'] == None and tree['left'] == None:\n",
    "        #print(''.join(prefix))\n",
    "        return [''.join(prefix)]\n",
    "    prefix.append('0')\n",
    "    answer = traverse(tree['left'], prefix)\n",
    "    prefix.pop()\n",
    "    \n",
    "    prefix.append('1')\n",
    "    answer.extend(traverse(tree['right'], prefix))\n",
    "    prefix.pop()\n",
    "\n",
    "    return answer\n",
    "    \n",
    "for _ in range(N):\n",
    "    serialized = input()\n",
    "    tree = make_tree(serialized)\n",
    "    answer = traverse(tree, [])\n",
    "    print(len(answer))\n",
    "    print('\\n'.join(answer))"
   ]
  },
  {
   "cell_type": "code",
   "execution_count": 282,
   "metadata": {},
   "outputs": [
    {
     "name": "stdout",
     "output_type": "stream",
     "text": [
      "3\n",
      "DDUUDU\n",
      "4\n",
      "00\n",
      "01\n",
      "10\n",
      "11\n",
      "DUDUDUDDUDUU\n",
      "7\n",
      "0\n",
      "10\n",
      "110\n",
      "11100\n",
      "111010\n",
      "111011\n",
      "1111\n",
      "DDDDUDDUUUUU\n",
      "7\n",
      "0000\n",
      "000100\n",
      "000101\n",
      "00011\n",
      "001\n",
      "01\n",
      "1\n"
     ]
    }
   ],
   "source": [
    "# Сразу печатаем при построении дерева\n",
    "N = int(input())\n",
    "\n",
    "def make_tree(serialized):\n",
    "    prefix = []\n",
    "    tree = {'left': None, 'right': None, 'up': None, 'type': 'root'}\n",
    "    now_node = tree\n",
    "    number_of_node = 0\n",
    "    for command in serialized:\n",
    "        if command == 'D':\n",
    "            now_node['left'] = {'left': None, 'right': None, 'up': now_node, 'type':'left'}\n",
    "            now_node = now_node['left']\n",
    "            prefix.append('0')\n",
    "        if command == 'U':\n",
    "            print(''.join(prefix))\n",
    "            while now_node['type'] == 'right':\n",
    "                now_node = now_node['up']\n",
    "                prefix.pop()\n",
    "            now_node = now_node['up']\n",
    "            prefix.pop()\n",
    "            now_node['right'] = {'left': None, 'right': None, 'up': now_node, 'type':'right'}\n",
    "            now_node = now_node['right']\n",
    "            prefix.append('1')\n",
    "    print(''.join(prefix))\n",
    "    return tree\n",
    "\n",
    "    \n",
    "for _ in range(N):\n",
    "    serialized = input()\n",
    "    print(len(serialized)//2 + 1)\n",
    "    tree = make_tree(serialized)"
   ]
  }
 ],
 "metadata": {
  "kernelspec": {
   "display_name": "Python 3",
   "language": "python",
   "name": "python3"
  },
  "language_info": {
   "codemirror_mode": {
    "name": "ipython",
    "version": 3
   },
   "file_extension": ".py",
   "mimetype": "text/x-python",
   "name": "python",
   "nbconvert_exporter": "python",
   "pygments_lexer": "ipython3",
   "version": "3.7.3"
  }
 },
 "nbformat": 4,
 "nbformat_minor": 2
}
